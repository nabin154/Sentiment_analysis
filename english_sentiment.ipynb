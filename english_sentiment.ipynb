{
 "cells": [
  {
   "cell_type": "code",
   "execution_count": 1,
   "id": "5d7ff099-91cf-459f-91a6-9dfe149ea57a",
   "metadata": {},
   "outputs": [
    {
     "name": "stdout",
     "output_type": "stream",
     "text": [
      "Requirement already satisfied: scikit-learn in c:\\users\\nabin\\appdata\\local\\programs\\python\\python312\\lib\\site-packages (1.3.2)\n",
      "Requirement already satisfied: numpy<2.0,>=1.17.3 in c:\\users\\nabin\\appdata\\local\\programs\\python\\python312\\lib\\site-packages (from scikit-learn) (1.26.3)\n",
      "Requirement already satisfied: scipy>=1.5.0 in c:\\users\\nabin\\appdata\\local\\programs\\python\\python312\\lib\\site-packages (from scikit-learn) (1.11.4)\n",
      "Requirement already satisfied: joblib>=1.1.1 in c:\\users\\nabin\\appdata\\local\\programs\\python\\python312\\lib\\site-packages (from scikit-learn) (1.3.2)\n",
      "Requirement already satisfied: threadpoolctl>=2.0.0 in c:\\users\\nabin\\appdata\\local\\programs\\python\\python312\\lib\\site-packages (from scikit-learn) (3.2.0)\n",
      "Note: you may need to restart the kernel to use updated packages.\n"
     ]
    },
    {
     "name": "stderr",
     "output_type": "stream",
     "text": [
      "\n",
      "[notice] A new release of pip is available: 23.3.2 -> 24.0\n",
      "[notice] To update, run: python.exe -m pip install --upgrade pip\n"
     ]
    }
   ],
   "source": [
    "pip install scikit-learn"
   ]
  },
  {
   "cell_type": "code",
   "execution_count": 2,
   "id": "7c6d96cd",
   "metadata": {},
   "outputs": [],
   "source": [
    "import numpy as np\n",
    "import pandas as pd"
   ]
  },
  {
   "cell_type": "code",
   "execution_count": 15,
   "id": "01b605df",
   "metadata": {},
   "outputs": [],
   "source": [
    "df = pd.read_csv('twitter_training.csv', encoding='latin-1')"
   ]
  },
  {
   "cell_type": "code",
   "execution_count": 16,
   "id": "66017aad",
   "metadata": {},
   "outputs": [
    {
     "data": {
      "text/html": [
       "<div>\n",
       "<style scoped>\n",
       "    .dataframe tbody tr th:only-of-type {\n",
       "        vertical-align: middle;\n",
       "    }\n",
       "\n",
       "    .dataframe tbody tr th {\n",
       "        vertical-align: top;\n",
       "    }\n",
       "\n",
       "    .dataframe thead th {\n",
       "        text-align: right;\n",
       "    }\n",
       "</style>\n",
       "<table border=\"1\" class=\"dataframe\">\n",
       "  <thead>\n",
       "    <tr style=\"text-align: right;\">\n",
       "      <th></th>\n",
       "      <th>number</th>\n",
       "      <th>context</th>\n",
       "      <th>sentiment</th>\n",
       "      <th>text</th>\n",
       "    </tr>\n",
       "  </thead>\n",
       "  <tbody>\n",
       "    <tr>\n",
       "      <th>0</th>\n",
       "      <td>2401</td>\n",
       "      <td>Borderlands</td>\n",
       "      <td>Positive</td>\n",
       "      <td>I am coming to the borders and I will kill you...</td>\n",
       "    </tr>\n",
       "    <tr>\n",
       "      <th>1</th>\n",
       "      <td>2401</td>\n",
       "      <td>Borderlands</td>\n",
       "      <td>Positive</td>\n",
       "      <td>im getting on borderlands and i will kill you ...</td>\n",
       "    </tr>\n",
       "    <tr>\n",
       "      <th>2</th>\n",
       "      <td>2401</td>\n",
       "      <td>Borderlands</td>\n",
       "      <td>Positive</td>\n",
       "      <td>im coming on borderlands and i will murder you...</td>\n",
       "    </tr>\n",
       "    <tr>\n",
       "      <th>3</th>\n",
       "      <td>2401</td>\n",
       "      <td>Borderlands</td>\n",
       "      <td>Positive</td>\n",
       "      <td>im getting on borderlands 2 and i will murder ...</td>\n",
       "    </tr>\n",
       "    <tr>\n",
       "      <th>4</th>\n",
       "      <td>2401</td>\n",
       "      <td>Borderlands</td>\n",
       "      <td>Positive</td>\n",
       "      <td>im getting into borderlands and i can murder y...</td>\n",
       "    </tr>\n",
       "  </tbody>\n",
       "</table>\n",
       "</div>"
      ],
      "text/plain": [
       "   number      context sentiment  \\\n",
       "0    2401  Borderlands  Positive   \n",
       "1    2401  Borderlands  Positive   \n",
       "2    2401  Borderlands  Positive   \n",
       "3    2401  Borderlands  Positive   \n",
       "4    2401  Borderlands  Positive   \n",
       "\n",
       "                                                text  \n",
       "0  I am coming to the borders and I will kill you...  \n",
       "1  im getting on borderlands and i will kill you ...  \n",
       "2  im coming on borderlands and i will murder you...  \n",
       "3  im getting on borderlands 2 and i will murder ...  \n",
       "4  im getting into borderlands and i can murder y...  "
      ]
     },
     "execution_count": 16,
     "metadata": {},
     "output_type": "execute_result"
    }
   ],
   "source": [
    "df.head()"
   ]
  },
  {
   "cell_type": "code",
   "execution_count": 17,
   "id": "6e7bd9c1",
   "metadata": {},
   "outputs": [],
   "source": [
    "df['binary_sentiment'] = df['sentiment'].map({'Neutral': 2, 'Positive': 0, 'Negative': 1,'Irrelevant':3})"
   ]
  },
  {
   "cell_type": "code",
   "execution_count": 18,
   "id": "1929d442",
   "metadata": {},
   "outputs": [
    {
     "data": {
      "text/html": [
       "<div>\n",
       "<style scoped>\n",
       "    .dataframe tbody tr th:only-of-type {\n",
       "        vertical-align: middle;\n",
       "    }\n",
       "\n",
       "    .dataframe tbody tr th {\n",
       "        vertical-align: top;\n",
       "    }\n",
       "\n",
       "    .dataframe thead th {\n",
       "        text-align: right;\n",
       "    }\n",
       "</style>\n",
       "<table border=\"1\" class=\"dataframe\">\n",
       "  <thead>\n",
       "    <tr style=\"text-align: right;\">\n",
       "      <th></th>\n",
       "      <th>number</th>\n",
       "      <th>context</th>\n",
       "      <th>sentiment</th>\n",
       "      <th>text</th>\n",
       "      <th>binary_sentiment</th>\n",
       "    </tr>\n",
       "  </thead>\n",
       "  <tbody>\n",
       "    <tr>\n",
       "      <th>34282</th>\n",
       "      <td>6688</td>\n",
       "      <td>Fortnite</td>\n",
       "      <td>Positive</td>\n",
       "      <td>War zone has the worst gun consistency I that ...</td>\n",
       "      <td>0</td>\n",
       "    </tr>\n",
       "  </tbody>\n",
       "</table>\n",
       "</div>"
      ],
      "text/plain": [
       "       number   context sentiment  \\\n",
       "34282    6688  Fortnite  Positive   \n",
       "\n",
       "                                                    text  binary_sentiment  \n",
       "34282  War zone has the worst gun consistency I that ...                 0  "
      ]
     },
     "execution_count": 18,
     "metadata": {},
     "output_type": "execute_result"
    }
   ],
   "source": [
    "df.sample()"
   ]
  },
  {
   "cell_type": "code",
   "execution_count": 19,
   "id": "35588abd",
   "metadata": {},
   "outputs": [],
   "source": [
    "df = df[['text', 'binary_sentiment']]"
   ]
  },
  {
   "cell_type": "code",
   "execution_count": 20,
   "id": "e6a61352",
   "metadata": {},
   "outputs": [
    {
     "data": {
      "text/html": [
       "<div>\n",
       "<style scoped>\n",
       "    .dataframe tbody tr th:only-of-type {\n",
       "        vertical-align: middle;\n",
       "    }\n",
       "\n",
       "    .dataframe tbody tr th {\n",
       "        vertical-align: top;\n",
       "    }\n",
       "\n",
       "    .dataframe thead th {\n",
       "        text-align: right;\n",
       "    }\n",
       "</style>\n",
       "<table border=\"1\" class=\"dataframe\">\n",
       "  <thead>\n",
       "    <tr style=\"text-align: right;\">\n",
       "      <th></th>\n",
       "      <th>text</th>\n",
       "      <th>binary_sentiment</th>\n",
       "    </tr>\n",
       "  </thead>\n",
       "  <tbody>\n",
       "    <tr>\n",
       "      <th>74676</th>\n",
       "      <td>Just realized that the Windows partition of my...</td>\n",
       "      <td>0</td>\n",
       "    </tr>\n",
       "    <tr>\n",
       "      <th>74677</th>\n",
       "      <td>Just realized that my Mac window partition is ...</td>\n",
       "      <td>0</td>\n",
       "    </tr>\n",
       "    <tr>\n",
       "      <th>74678</th>\n",
       "      <td>Just realized the windows partition of my Mac ...</td>\n",
       "      <td>0</td>\n",
       "    </tr>\n",
       "    <tr>\n",
       "      <th>74679</th>\n",
       "      <td>Just realized between the windows partition of...</td>\n",
       "      <td>0</td>\n",
       "    </tr>\n",
       "    <tr>\n",
       "      <th>74680</th>\n",
       "      <td>Just like the windows partition of my Mac is l...</td>\n",
       "      <td>0</td>\n",
       "    </tr>\n",
       "  </tbody>\n",
       "</table>\n",
       "</div>"
      ],
      "text/plain": [
       "                                                    text  binary_sentiment\n",
       "74676  Just realized that the Windows partition of my...                 0\n",
       "74677  Just realized that my Mac window partition is ...                 0\n",
       "74678  Just realized the windows partition of my Mac ...                 0\n",
       "74679  Just realized between the windows partition of...                 0\n",
       "74680  Just like the windows partition of my Mac is l...                 0"
      ]
     },
     "execution_count": 20,
     "metadata": {},
     "output_type": "execute_result"
    }
   ],
   "source": [
    "df.tail()"
   ]
  },
  {
   "cell_type": "code",
   "execution_count": 21,
   "id": "6a17a9d8",
   "metadata": {},
   "outputs": [
    {
     "data": {
      "text/plain": [
       "text                686\n",
       "binary_sentiment      0\n",
       "dtype: int64"
      ]
     },
     "execution_count": 21,
     "metadata": {},
     "output_type": "execute_result"
    }
   ],
   "source": [
    "df.isnull().sum()"
   ]
  },
  {
   "cell_type": "code",
   "execution_count": 22,
   "id": "8eb09d35",
   "metadata": {},
   "outputs": [],
   "source": [
    "df = df.dropna()\n",
    "\n"
   ]
  },
  {
   "cell_type": "code",
   "execution_count": 23,
   "id": "a7c0ceec",
   "metadata": {},
   "outputs": [
    {
     "data": {
      "text/plain": [
       "4229"
      ]
     },
     "execution_count": 23,
     "metadata": {},
     "output_type": "execute_result"
    }
   ],
   "source": [
    "df.duplicated().sum()"
   ]
  },
  {
   "cell_type": "code",
   "execution_count": 24,
   "id": "b291b6ab",
   "metadata": {},
   "outputs": [
    {
     "name": "stdout",
     "output_type": "stream",
     "text": [
      "<class 'pandas.core.frame.DataFrame'>\n",
      "Index: 73995 entries, 0 to 74680\n",
      "Data columns (total 2 columns):\n",
      " #   Column            Non-Null Count  Dtype \n",
      "---  ------            --------------  ----- \n",
      " 0   text              73995 non-null  object\n",
      " 1   binary_sentiment  73995 non-null  int64 \n",
      "dtypes: int64(1), object(1)\n",
      "memory usage: 1.7+ MB\n"
     ]
    }
   ],
   "source": [
    "df.info()"
   ]
  },
  {
   "cell_type": "code",
   "execution_count": 25,
   "id": "919203e3",
   "metadata": {},
   "outputs": [
    {
     "data": {
      "text/plain": [
       "(73995, 2)"
      ]
     },
     "execution_count": 25,
     "metadata": {},
     "output_type": "execute_result"
    }
   ],
   "source": [
    "df.shape"
   ]
  },
  {
   "cell_type": "code",
   "execution_count": 26,
   "id": "cfe8e4f7",
   "metadata": {},
   "outputs": [
    {
     "data": {
      "text/plain": [
       "binary_sentiment\n",
       "1    22358\n",
       "0    20654\n",
       "2    18108\n",
       "3    12875\n",
       "Name: count, dtype: int64"
      ]
     },
     "execution_count": 26,
     "metadata": {},
     "output_type": "execute_result"
    }
   ],
   "source": [
    "df['binary_sentiment'].value_counts()"
   ]
  },
  {
   "cell_type": "code",
   "execution_count": null,
   "id": "e6329057-4985-453e-8c60-47f6c46080a8",
   "metadata": {},
   "outputs": [],
   "source": []
  },
  {
   "cell_type": "code",
   "execution_count": 27,
   "id": "5bba8ba6",
   "metadata": {},
   "outputs": [],
   "source": [
    "import nltk\n",
    "from nltk.corpus import stopwords\n",
    "from nltk.tokenize import word_tokenize\n",
    "from nltk.stem import PorterStemmer\n",
    "from sklearn.feature_extraction.text import TfidfVectorizer\n",
    "from sklearn.model_selection import train_test_split\n",
    "from sklearn.preprocessing import LabelEncoder\n"
   ]
  },
  {
   "cell_type": "code",
   "execution_count": 28,
   "id": "1f73825f",
   "metadata": {},
   "outputs": [
    {
     "name": "stderr",
     "output_type": "stream",
     "text": [
      "[nltk_data] Downloading package stopwords to\n",
      "[nltk_data]     C:\\Users\\Nabin\\AppData\\Roaming\\nltk_data...\n",
      "[nltk_data]   Package stopwords is already up-to-date!\n",
      "[nltk_data] Downloading package punkt to\n",
      "[nltk_data]     C:\\Users\\Nabin\\AppData\\Roaming\\nltk_data...\n",
      "[nltk_data]   Package punkt is already up-to-date!\n"
     ]
    },
    {
     "data": {
      "text/plain": [
       "True"
      ]
     },
     "execution_count": 28,
     "metadata": {},
     "output_type": "execute_result"
    }
   ],
   "source": [
    "nltk.download('stopwords')\n",
    "nltk.download('punkt')"
   ]
  },
  {
   "cell_type": "code",
   "execution_count": 29,
   "id": "cc4aadef",
   "metadata": {},
   "outputs": [],
   "source": [
    "def preprocess_text(text):\n",
    "    # Convert to lowercase\n",
    "    text = text.lower()\n",
    "    \n",
    "    # Tokenization\n",
    "    words = word_tokenize(text)\n",
    "    \n",
    "    # Remove stopwords\n",
    "    stop_words = set(stopwords.words('english'))\n",
    "    words = [word for word in words if word not in stop_words]\n",
    "    \n",
    "    # Stemming\n",
    "    ps = PorterStemmer()\n",
    "    words = [ps.stem(word) for word in words]\n",
    "    \n",
    "    # Join the words back into a single string\n",
    "    processed_text = ' '.join(words)\n",
    "    \n",
    "    return processed_text"
   ]
  },
  {
   "cell_type": "code",
   "execution_count": 30,
   "id": "5c0e5c3b",
   "metadata": {},
   "outputs": [],
   "source": [
    "df['text'] = df['text'].apply(preprocess_text)"
   ]
  },
  {
   "cell_type": "code",
   "execution_count": 31,
   "id": "822ec7f3",
   "metadata": {},
   "outputs": [
    {
     "data": {
      "text/html": [
       "<div>\n",
       "<style scoped>\n",
       "    .dataframe tbody tr th:only-of-type {\n",
       "        vertical-align: middle;\n",
       "    }\n",
       "\n",
       "    .dataframe tbody tr th {\n",
       "        vertical-align: top;\n",
       "    }\n",
       "\n",
       "    .dataframe thead th {\n",
       "        text-align: right;\n",
       "    }\n",
       "</style>\n",
       "<table border=\"1\" class=\"dataframe\">\n",
       "  <thead>\n",
       "    <tr style=\"text-align: right;\">\n",
       "      <th></th>\n",
       "      <th>text</th>\n",
       "      <th>binary_sentiment</th>\n",
       "    </tr>\n",
       "  </thead>\n",
       "  <tbody>\n",
       "    <tr>\n",
       "      <th>74676</th>\n",
       "      <td>realiz window partit mac like 6 year behind nv...</td>\n",
       "      <td>0</td>\n",
       "    </tr>\n",
       "    <tr>\n",
       "      <th>74677</th>\n",
       "      <td>realiz mac window partit 6 year behind nvidia ...</td>\n",
       "      <td>0</td>\n",
       "    </tr>\n",
       "    <tr>\n",
       "      <th>74678</th>\n",
       "      <td>realiz window partit mac 6 year behind nvidia ...</td>\n",
       "      <td>0</td>\n",
       "    </tr>\n",
       "    <tr>\n",
       "      <th>74679</th>\n",
       "      <td>realiz window partit mac like 6 year behind nv...</td>\n",
       "      <td>0</td>\n",
       "    </tr>\n",
       "    <tr>\n",
       "      <th>74680</th>\n",
       "      <td>like window partit mac like 6 year behind driv...</td>\n",
       "      <td>0</td>\n",
       "    </tr>\n",
       "  </tbody>\n",
       "</table>\n",
       "</div>"
      ],
      "text/plain": [
       "                                                    text  binary_sentiment\n",
       "74676  realiz window partit mac like 6 year behind nv...                 0\n",
       "74677  realiz mac window partit 6 year behind nvidia ...                 0\n",
       "74678  realiz window partit mac 6 year behind nvidia ...                 0\n",
       "74679  realiz window partit mac like 6 year behind nv...                 0\n",
       "74680  like window partit mac like 6 year behind driv...                 0"
      ]
     },
     "execution_count": 31,
     "metadata": {},
     "output_type": "execute_result"
    }
   ],
   "source": [
    "df.tail()"
   ]
  },
  {
   "cell_type": "code",
   "execution_count": 32,
   "id": "a785777f",
   "metadata": {},
   "outputs": [],
   "source": [
    "# Encode labels\n",
    "label_encoder = LabelEncoder()\n",
    "encoded_labels = label_encoder.fit_transform(df['binary_sentiment'])"
   ]
  },
  {
   "cell_type": "code",
   "execution_count": 34,
   "id": "6aba1dee",
   "metadata": {},
   "outputs": [],
   "source": [
    "from sklearn.model_selection import train_test_split"
   ]
  },
  {
   "cell_type": "code",
   "execution_count": 35,
   "id": "3025eef8",
   "metadata": {},
   "outputs": [],
   "source": [
    "X_train, X_test, y_train, y_test = train_test_split(df['text'], encoded_labels, test_size=0.2, random_state=42)"
   ]
  },
  {
   "cell_type": "code",
   "execution_count": 36,
   "id": "c6ed4311",
   "metadata": {},
   "outputs": [],
   "source": [
    "vectorizer = TfidfVectorizer(max_features=18925)\n",
    "X_train_tfidf = vectorizer.fit_transform(X_train)\n",
    "X_test_tfidf = vectorizer.transform(X_test)"
   ]
  },
  {
   "cell_type": "code",
   "execution_count": 36,
   "id": "35a45cec",
   "metadata": {},
   "outputs": [
    {
     "name": "stdout",
     "output_type": "stream",
     "text": [
      "Processed Texts: 0                                           ` respond , go\n",
      "1                            sooo sad miss san diego ! ! !\n",
      "2                                           boss bulli ...\n",
      "3                                    interview ! leav alon\n",
      "4                son * * * * , ` put releas alreadi bought\n",
      "                               ...                        \n",
      "27476    wish could come see u denver husband lost job ...\n",
      "27477    ` wonder rake . client made clear .net , ` for...\n",
      "27478    yay good . enjoy break - probabl need hectic w...\n",
      "27479                                      worth * * * * .\n",
      "27480             flirt go - atg smile . yay . ( ( hug ) )\n",
      "Name: text, Length: 27480, dtype: object\n",
      "Encoded Labels: [2 1 1 ... 0 0 2]\n",
      "X_train:   (0, 11546)\t0.3264729758838995\n",
      "  (0, 6761)\t0.5061459813569884\n",
      "  (0, 4783)\t0.4962708183154321\n",
      "  (0, 8521)\t0.5341264876095198\n",
      "  (0, 12229)\t0.3250473991530014\n",
      "  (1, 8575)\t0.41541355502741845\n",
      "  (1, 8041)\t0.3547812359313191\n",
      "  (1, 8638)\t0.346691805383014\n",
      "  (1, 18417)\t0.2019288637880997\n",
      "  (1, 6916)\t0.364912214989738\n",
      "  (1, 17004)\t0.41541355502741845\n",
      "  (1, 3809)\t0.3595293018336002\n",
      "  (1, 8659)\t0.18269266582351798\n",
      "  (1, 16990)\t0.2029520651002208\n",
      "  (1, 16495)\t0.17616629325640706\n",
      "  (2, 15444)\t0.37138150846802703\n",
      "  (2, 7794)\t0.5179282289225702\n",
      "  (2, 14571)\t0.34190547046348485\n",
      "  (2, 14232)\t0.44211344150929216\n",
      "  (2, 8712)\t0.38927315984533833\n",
      "  (2, 15000)\t0.36045649665545065\n",
      "  (3, 3229)\t0.26258860953427565\n",
      "  (3, 13562)\t0.2429574569786499\n",
      "  (3, 3614)\t0.33375096394822945\n",
      "  (3, 6847)\t0.2546497345493115\n",
      "  :\t:\n",
      "  (21980, 17624)\t0.6181492356084092\n",
      "  (21980, 18297)\t0.5083918128820625\n",
      "  (21980, 7325)\t0.4120699534019545\n",
      "  (21980, 3203)\t0.4354625593716876\n",
      "  (21981, 558)\t0.49553032588524903\n",
      "  (21981, 17519)\t0.45146907087755545\n",
      "  (21981, 7009)\t0.382460815062247\n",
      "  (21981, 4302)\t0.39262193918763444\n",
      "  (21981, 17204)\t0.2580758629380816\n",
      "  (21981, 4754)\t0.21391130704329203\n",
      "  (21981, 8753)\t0.1970290867774909\n",
      "  (21981, 14232)\t0.3146672093353573\n",
      "  (21982, 10953)\t0.6065796449379639\n",
      "  (21982, 6294)\t0.5118435690951284\n",
      "  (21982, 10640)\t0.35127442228759365\n",
      "  (21982, 3318)\t0.30989953911696916\n",
      "  (21982, 16610)\t0.30409912484732415\n",
      "  (21982, 8753)\t0.2411836920100381\n",
      "  (21983, 698)\t0.5014232742996405\n",
      "  (21983, 4589)\t0.5113533997340691\n",
      "  (21983, 13712)\t0.42369552410800115\n",
      "  (21983, 12216)\t0.3551535716317766\n",
      "  (21983, 7848)\t0.22449620804110904\n",
      "  (21983, 10525)\t0.21588403727148256\n",
      "  (21983, 15000)\t0.29057869675116244\n",
      "X_test:   (0, 6791)\t0.5909038268317492\n",
      "  (0, 6610)\t0.5892626605657378\n",
      "  (0, 6447)\t0.5510010746800609\n",
      "  (1, 17115)\t0.30593825281979287\n",
      "  (1, 9811)\t0.31302541538011747\n",
      "  (1, 8590)\t0.41742284624486414\n",
      "  (1, 6557)\t0.3663121541791675\n",
      "  (1, 5723)\t0.40482823377000526\n",
      "  (1, 5522)\t0.49468278425736284\n",
      "  (1, 3925)\t0.30231356572799206\n",
      "  (2, 17701)\t0.34526477667650585\n",
      "  (2, 13446)\t0.3897885935626067\n",
      "  (2, 12723)\t0.4126870239015271\n",
      "  (2, 8753)\t0.18367067161755693\n",
      "  (2, 6751)\t0.3019247672743062\n",
      "  (2, 5901)\t0.40577701696472024\n",
      "  (2, 4754)\t0.19940829079516084\n",
      "  (2, 3312)\t0.2780273804970839\n",
      "  (2, 2494)\t0.3897885935626067\n",
      "  (3, 8477)\t0.6113628955568414\n",
      "  (3, 4875)\t0.791350371160812\n",
      "  (4, 16476)\t1.0\n",
      "  (5, 14709)\t0.2521829420569379\n",
      "  (5, 12964)\t0.3449007734589052\n",
      "  (5, 12730)\t0.513662959959275\n",
      "  :\t:\n",
      "  (5493, 16570)\t0.39653237206957864\n",
      "  (5493, 8770)\t0.3474065035472913\n",
      "  (5493, 8072)\t0.23181731520228022\n",
      "  (5493, 7617)\t0.15732697153604533\n",
      "  (5493, 3793)\t0.29088380728665714\n",
      "  (5493, 3201)\t0.3401483792730102\n",
      "  (5493, 2789)\t0.2856790561571518\n",
      "  (5494, 16772)\t0.20920355044375127\n",
      "  (5494, 16767)\t0.41487867124635996\n",
      "  (5494, 8964)\t0.22534640786060692\n",
      "  (5494, 5168)\t0.49542344669279953\n",
      "  (5494, 5076)\t0.41164882270575415\n",
      "  (5494, 4719)\t0.31250904400648793\n",
      "  (5494, 4565)\t0.46985903389958233\n",
      "  (5495, 17741)\t0.31092018383584946\n",
      "  (5495, 17204)\t0.23413760712075518\n",
      "  (5495, 16906)\t0.31002064274915886\n",
      "  (5495, 16694)\t0.1858459934543439\n",
      "  (5495, 13343)\t0.3646739268790057\n",
      "  (5495, 12750)\t0.3118386640142451\n",
      "  (5495, 10919)\t0.2539902337545923\n",
      "  (5495, 8753)\t0.17875332619671394\n",
      "  (5495, 4754)\t0.19406960804856832\n",
      "  (5495, 3817)\t0.3890878355199329\n",
      "  (5495, 3816)\t0.44956658649777204\n",
      "y_train: [0 0 2 ... 2 0 0]\n",
      "y_test: [0 1 2 ... 2 1 2]\n"
     ]
    }
   ],
   "source": [
    "print(\"Processed Texts:\", df['text'])\n",
    "print(\"Encoded Labels:\", encoded_labels)\n",
    "print(\"X_train:\", X_train_tfidf)\n",
    "print(\"X_test:\", X_test_tfidf)\n",
    "print(\"y_train:\", y_train)\n",
    "print(\"y_test:\", y_test)"
   ]
  },
  {
   "cell_type": "code",
   "execution_count": 37,
   "id": "1ef1e8fe",
   "metadata": {},
   "outputs": [],
   "source": [
    "from sklearn.naive_bayes import MultinomialNB\n",
    "from sklearn.feature_extraction.text import CountVectorizer\n",
    "from sklearn.metrics import accuracy_score, classification_report, confusion_matrix"
   ]
  },
  {
   "cell_type": "code",
   "execution_count": 38,
   "id": "891999cd",
   "metadata": {},
   "outputs": [],
   "source": [
    "vectorizer = CountVectorizer()\n",
    "X_train_vectorized = vectorizer.fit_transform(X_train)"
   ]
  },
  {
   "cell_type": "code",
   "execution_count": null,
   "id": "6ce9e249",
   "metadata": {},
   "outputs": [],
   "source": []
  },
  {
   "cell_type": "code",
   "execution_count": 38,
   "id": "88004a46",
   "metadata": {},
   "outputs": [
    {
     "data": {
      "text/html": [
       "<style>#sk-container-id-1 {color: black;}#sk-container-id-1 pre{padding: 0;}#sk-container-id-1 div.sk-toggleable {background-color: white;}#sk-container-id-1 label.sk-toggleable__label {cursor: pointer;display: block;width: 100%;margin-bottom: 0;padding: 0.3em;box-sizing: border-box;text-align: center;}#sk-container-id-1 label.sk-toggleable__label-arrow:before {content: \"▸\";float: left;margin-right: 0.25em;color: #696969;}#sk-container-id-1 label.sk-toggleable__label-arrow:hover:before {color: black;}#sk-container-id-1 div.sk-estimator:hover label.sk-toggleable__label-arrow:before {color: black;}#sk-container-id-1 div.sk-toggleable__content {max-height: 0;max-width: 0;overflow: hidden;text-align: left;background-color: #f0f8ff;}#sk-container-id-1 div.sk-toggleable__content pre {margin: 0.2em;color: black;border-radius: 0.25em;background-color: #f0f8ff;}#sk-container-id-1 input.sk-toggleable__control:checked~div.sk-toggleable__content {max-height: 200px;max-width: 100%;overflow: auto;}#sk-container-id-1 input.sk-toggleable__control:checked~label.sk-toggleable__label-arrow:before {content: \"▾\";}#sk-container-id-1 div.sk-estimator input.sk-toggleable__control:checked~label.sk-toggleable__label {background-color: #d4ebff;}#sk-container-id-1 div.sk-label input.sk-toggleable__control:checked~label.sk-toggleable__label {background-color: #d4ebff;}#sk-container-id-1 input.sk-hidden--visually {border: 0;clip: rect(1px 1px 1px 1px);clip: rect(1px, 1px, 1px, 1px);height: 1px;margin: -1px;overflow: hidden;padding: 0;position: absolute;width: 1px;}#sk-container-id-1 div.sk-estimator {font-family: monospace;background-color: #f0f8ff;border: 1px dotted black;border-radius: 0.25em;box-sizing: border-box;margin-bottom: 0.5em;}#sk-container-id-1 div.sk-estimator:hover {background-color: #d4ebff;}#sk-container-id-1 div.sk-parallel-item::after {content: \"\";width: 100%;border-bottom: 1px solid gray;flex-grow: 1;}#sk-container-id-1 div.sk-label:hover label.sk-toggleable__label {background-color: #d4ebff;}#sk-container-id-1 div.sk-serial::before {content: \"\";position: absolute;border-left: 1px solid gray;box-sizing: border-box;top: 0;bottom: 0;left: 50%;z-index: 0;}#sk-container-id-1 div.sk-serial {display: flex;flex-direction: column;align-items: center;background-color: white;padding-right: 0.2em;padding-left: 0.2em;position: relative;}#sk-container-id-1 div.sk-item {position: relative;z-index: 1;}#sk-container-id-1 div.sk-parallel {display: flex;align-items: stretch;justify-content: center;background-color: white;position: relative;}#sk-container-id-1 div.sk-item::before, #sk-container-id-1 div.sk-parallel-item::before {content: \"\";position: absolute;border-left: 1px solid gray;box-sizing: border-box;top: 0;bottom: 0;left: 50%;z-index: -1;}#sk-container-id-1 div.sk-parallel-item {display: flex;flex-direction: column;z-index: 1;position: relative;background-color: white;}#sk-container-id-1 div.sk-parallel-item:first-child::after {align-self: flex-end;width: 50%;}#sk-container-id-1 div.sk-parallel-item:last-child::after {align-self: flex-start;width: 50%;}#sk-container-id-1 div.sk-parallel-item:only-child::after {width: 0;}#sk-container-id-1 div.sk-dashed-wrapped {border: 1px dashed gray;margin: 0 0.4em 0.5em 0.4em;box-sizing: border-box;padding-bottom: 0.4em;background-color: white;}#sk-container-id-1 div.sk-label label {font-family: monospace;font-weight: bold;display: inline-block;line-height: 1.2em;}#sk-container-id-1 div.sk-label-container {text-align: center;}#sk-container-id-1 div.sk-container {/* jupyter's `normalize.less` sets `[hidden] { display: none; }` but bootstrap.min.css set `[hidden] { display: none !important; }` so we also need the `!important` here to be able to override the default hidden behavior on the sphinx rendered scikit-learn.org. See: https://github.com/scikit-learn/scikit-learn/issues/21755 */display: inline-block !important;position: relative;}#sk-container-id-1 div.sk-text-repr-fallback {display: none;}</style><div id=\"sk-container-id-1\" class=\"sk-top-container\"><div class=\"sk-text-repr-fallback\"><pre>MultinomialNB()</pre><b>In a Jupyter environment, please rerun this cell to show the HTML representation or trust the notebook. <br />On GitHub, the HTML representation is unable to render, please try loading this page with nbviewer.org.</b></div><div class=\"sk-container\" hidden><div class=\"sk-item\"><div class=\"sk-estimator sk-toggleable\"><input class=\"sk-toggleable__control sk-hidden--visually\" id=\"sk-estimator-id-1\" type=\"checkbox\" checked><label for=\"sk-estimator-id-1\" class=\"sk-toggleable__label sk-toggleable__label-arrow\">MultinomialNB</label><div class=\"sk-toggleable__content\"><pre>MultinomialNB()</pre></div></div></div></div></div>"
      ],
      "text/plain": [
       "MultinomialNB()"
      ]
     },
     "execution_count": 38,
     "metadata": {},
     "output_type": "execute_result"
    }
   ],
   "source": [
    "naive_bayes_classifier = MultinomialNB()\n",
    "naive_bayes_classifier.fit(X_train_tfidf, y_train)"
   ]
  },
  {
   "cell_type": "code",
   "execution_count": 39,
   "id": "cd0cc2cd",
   "metadata": {},
   "outputs": [],
   "source": [
    "y_pred = naive_bayes_classifier.predict(X_test_tfidf)"
   ]
  },
  {
   "cell_type": "code",
   "execution_count": 40,
   "id": "5db7c9b9",
   "metadata": {},
   "outputs": [],
   "source": [
    "class_names = label_encoder.classes_.astype(str)"
   ]
  },
  {
   "cell_type": "code",
   "execution_count": null,
   "id": "3cab80d2",
   "metadata": {},
   "outputs": [],
   "source": []
  },
  {
   "cell_type": "code",
   "execution_count": 41,
   "id": "88ddd5a2",
   "metadata": {
    "scrolled": true
   },
   "outputs": [],
   "source": [
    "accuracy = accuracy_score(y_test, y_pred)\n",
    "conf_matrix = confusion_matrix(y_test, y_pred)\n",
    "class_report = classification_report(y_test, y_pred, target_names=class_names)"
   ]
  },
  {
   "cell_type": "code",
   "execution_count": 42,
   "id": "89b92a64",
   "metadata": {},
   "outputs": [
    {
     "data": {
      "text/plain": [
       "0.717143050206095"
      ]
     },
     "execution_count": 42,
     "metadata": {},
     "output_type": "execute_result"
    }
   ],
   "source": [
    "accuracy = accuracy_score(y_test, y_pred)\n",
    "accuracy"
   ]
  },
  {
   "cell_type": "code",
   "execution_count": 43,
   "id": "470170bc",
   "metadata": {},
   "outputs": [
    {
     "data": {
      "text/plain": [
       "'              precision    recall  f1-score   support\\n\\n           0       0.69      0.81      0.74      4123\\n           1       0.65      0.88      0.75      4463\\n           2       0.82      0.62      0.71      3589\\n           3       0.92      0.44      0.59      2624\\n\\n    accuracy                           0.72     14799\\n   macro avg       0.77      0.69      0.70     14799\\nweighted avg       0.75      0.72      0.71     14799\\n'"
      ]
     },
     "execution_count": 43,
     "metadata": {},
     "output_type": "execute_result"
    }
   ],
   "source": [
    "report = classification_report(y_test, y_pred)\n",
    "report"
   ]
  },
  {
   "cell_type": "code",
   "execution_count": 44,
   "id": "edb0f910",
   "metadata": {},
   "outputs": [
    {
     "data": {
      "text/plain": [
       "array([[3329,  596,  165,   33],\n",
       "       [ 366, 3907,  158,   32],\n",
       "       [ 538,  789, 2230,   32],\n",
       "       [ 594,  709,  174, 1147]], dtype=int64)"
      ]
     },
     "execution_count": 44,
     "metadata": {},
     "output_type": "execute_result"
    }
   ],
   "source": [
    "confusion = confusion_matrix(y_test, y_pred)\n",
    "confusion"
   ]
  },
  {
   "cell_type": "code",
   "execution_count": 27,
   "id": "1ec60303-7a75-497e-affb-92b6a8ef9bdc",
   "metadata": {},
   "outputs": [],
   "source": [
    "from sklearn.feature_extraction.text import TfidfVectorizer\n",
    "from sklearn.model_selection import train_test_split\n",
    "from sklearn.preprocessing import LabelEncoder\n",
    "from sklearn.svm import SVC\n",
    "from sklearn.metrics import accuracy_score, classification_report, confusion_matrix\n",
    "\n",
    "# Assuming X_train_tfidf, X_test_tfidf, y_train, y_test are already defined\n",
    "\n",
    "# Initialization of SVM Classifier\n",
    "svm_classifier = SVC()\n",
    "\n",
    "# Training the SVM Classifier\n",
    "svm_classifier.fit(X_train_tfidf, y_train)\n",
    "\n",
    "# Making Predictions\n",
    "y_pred_svm = svm_classifier.predict(X_test_tfidf)\n",
    "\n",
    "# Calculating Accuracy\n",
    "accuracy_svm = accuracy_score(y_test, y_pred_svm)\n",
    "\n",
    "# Creating Confusion Matrix\n",
    "conf_matrix_svm = confusion_matrix(y_test, y_pred_svm)\n",
    "\n",
    "# Generating Classification Report\n",
    "class_report_svm = classification_report(y_test, y_pred_svm, target_names=class_names)\n"
   ]
  },
  {
   "cell_type": "code",
   "execution_count": 28,
   "id": "aeeb0a9b-ae3b-4204-a8de-3cb877e8f350",
   "metadata": {},
   "outputs": [
    {
     "data": {
      "text/plain": [
       "0.6991633321207712"
      ]
     },
     "execution_count": 28,
     "metadata": {},
     "output_type": "execute_result"
    }
   ],
   "source": [
    "accuracy_svm"
   ]
  },
  {
   "cell_type": "code",
   "execution_count": null,
   "id": "6d05be70-a230-4fe4-ac36-79de37bb597f",
   "metadata": {},
   "outputs": [],
   "source": []
  },
  {
   "cell_type": "code",
   "execution_count": null,
   "id": "01b7e791-d726-410b-a3a9-0817bce45ede",
   "metadata": {},
   "outputs": [],
   "source": []
  },
  {
   "cell_type": "code",
   "execution_count": null,
   "id": "cfe41733-6549-40bb-aeee-4e9339395d15",
   "metadata": {},
   "outputs": [],
   "source": []
  },
  {
   "cell_type": "code",
   "execution_count": 45,
   "id": "171a6c99",
   "metadata": {},
   "outputs": [],
   "source": [
    "import numpy as np"
   ]
  },
  {
   "cell_type": "code",
   "execution_count": 57,
   "id": "1f2dc5c0",
   "metadata": {},
   "outputs": [
    {
     "name": "stdout",
     "output_type": "stream",
     "text": [
      "Predictions for new text svm [0]\n"
     ]
    }
   ],
   "source": [
    "new_text = [\"i love you\"]\n",
    "new_text_reshaped = vectorizer.transform(new_text)\n",
    "\n",
    "new_predictions_svm = naive_bayes_classifier.predict(new_text_reshaped)\n",
    "\n",
    "print(\"Predictions for new text svm\", new_predictions_svm)"
   ]
  },
  {
   "cell_type": "code",
   "execution_count": 58,
   "id": "33206139",
   "metadata": {},
   "outputs": [],
   "source": [
    "import pickle\n",
    "pickle.dump(naive_bayes_classifier,open('sentimentenglish_model.pkl','wb'))\n",
    "pickle.dump(svm_classifier,open('sentimentenglish_model_svm.pkl','wb'))\n",
    "pickle.dump(vectorizer,open('vectorizerenglish.pkl','wb'))"
   ]
  },
  {
   "cell_type": "code",
   "execution_count": null,
   "id": "095af747",
   "metadata": {},
   "outputs": [],
   "source": []
  }
 ],
 "metadata": {
  "kernelspec": {
   "display_name": "Python 3 (ipykernel)",
   "language": "python",
   "name": "python3"
  },
  "language_info": {
   "codemirror_mode": {
    "name": "ipython",
    "version": 3
   },
   "file_extension": ".py",
   "mimetype": "text/x-python",
   "name": "python",
   "nbconvert_exporter": "python",
   "pygments_lexer": "ipython3",
   "version": "3.12.1"
  }
 },
 "nbformat": 4,
 "nbformat_minor": 5
}
